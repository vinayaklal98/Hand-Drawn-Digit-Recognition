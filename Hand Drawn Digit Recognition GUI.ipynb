{
 "cells": [
  {
   "cell_type": "markdown",
   "metadata": {},
   "source": [
    "### Importing the required libraries"
   ]
  },
  {
   "cell_type": "code",
   "execution_count": 9,
   "metadata": {},
   "outputs": [],
   "source": [
    "import tkinter as tk # GUI\n",
    "from PIL import ImageTk,Image,ImageDraw\n",
    "import PIL # PILLOW Module\n",
    "from matplotlib import pyplot as plt \n",
    "import numpy as np\n",
    "import cv2\n",
    "import os\n",
    "import joblib\n",
    "from warnings import filterwarnings\n",
    "filterwarnings(\"ignore\")"
   ]
  },
  {
   "cell_type": "markdown",
   "metadata": {},
   "source": [
    "### Initialization\n",
    "- Count variable to save the name of images with unique number values\n",
    "- To make a separate directory to store the images\n",
    "- To load the physical model into the jupyter notebook"
   ]
  },
  {
   "cell_type": "code",
   "execution_count": 10,
   "metadata": {},
   "outputs": [
    {
     "name": "stdout",
     "output_type": "stream",
     "text": [
      "Path Already Exists\n"
     ]
    }
   ],
   "source": [
    "count = 0\n",
    "\n",
    "try:\n",
    "    os.mkdir('Images_Data')\n",
    "    print(\"Images_data Directory made successfully !!\")\n",
    "except:\n",
    "    print('Path Already Exists')\n",
    "\n",
    "model = joblib.load('KNN-Handwritten-Written-Digits.sav')"
   ]
  },
  {
   "cell_type": "markdown",
   "metadata": {},
   "source": [
    "### Required Functions"
   ]
  },
  {
   "cell_type": "markdown",
   "metadata": {},
   "source": [
    "##### The SAVE function can used to save the images and these images can be used to make are own dataset"
   ]
  },
  {
   "cell_type": "code",
   "execution_count": 11,
   "metadata": {},
   "outputs": [],
   "source": [
    "def saveFunction():\n",
    "    global count\n",
    "    \n",
    "    imgArray = np.array(img)\n",
    "    img_array=cv2.resize(img_array,(8,8))\n",
    "    \n",
    "    cv2.imwrite('data/image_'+str(count)+'.jpg',imgArray)\n",
    "    count = count + 1\n",
    "    \n",
    "    print(\"Saved\")"
   ]
  },
  {
   "cell_type": "markdown",
   "metadata": {},
   "source": [
    "##### The CLEAR function can be used to clear the canvas and also replace the image made with a new blank image"
   ]
  },
  {
   "cell_type": "code",
   "execution_count": 12,
   "metadata": {},
   "outputs": [],
   "source": [
    "def clearFunction():\n",
    "    global img,imgDraw\n",
    "    \n",
    "    canvas.delete('all')\n",
    "    img=Image.new('RGB',(500,500),(0,0,0)) # creates a pillow image from PIL Library\n",
    "    # Creates a new black image as we dont have a way to clear the image\n",
    "    # we load the image again adn previous image we be replaced\n",
    "    \n",
    "    img_draw=ImageDraw.Draw(img)\n",
    "    label_status.config(text='PREDICTED DIGIT: NONE')\n",
    "    \n",
    "    print(\"Cleared\")"
   ]
  },
  {
   "cell_type": "markdown",
   "metadata": {},
   "source": [
    "##### The DRAW function is used to draw on the canvas and hold the image until an event is triggered"
   ]
  },
  {
   "cell_type": "code",
   "execution_count": 13,
   "metadata": {},
   "outputs": [],
   "source": [
    "def drawFunction(event):\n",
    "\n",
    "    x=event.x       #x coordinate of mouse pointer\n",
    "    y=event.y       #y coordinate of mouse pointer\n",
    "\n",
    "    x1=x-30       #create a thickness of the line \n",
    "    y1=y-30\n",
    "\n",
    "    x2=x+30\n",
    "    y2=y+30\n",
    "    \n",
    "    canvas.create_oval((x1,y1,x2,y2),fill='black') \n",
    "    img_draw.ellipse((x1,y1,x2,y2),fill='white')\n",
    "    \n",
    "# oval boundry is created with x1,x2,y1,y2 ------- oval shaped dot of the pen\n",
    "# img_draw has function for ellispe (works same as oval) we do this as we want to simultaeneosly convert the text drawn into an image also\n"
   ]
  },
  {
   "cell_type": "markdown",
   "metadata": {},
   "source": [
    "##### The PREDICT function is used to take the image and give out the prediction"
   ]
  },
  {
   "cell_type": "code",
   "execution_count": 21,
   "metadata": {},
   "outputs": [],
   "source": [
    "def predictFunction():\n",
    "    \n",
    "    imgArray = np.array(img)\n",
    "    \n",
    "    # convert to grey scale and reshape it\n",
    "    imgArray = cv2.cvtColor(imgArray,cv2.COLOR_BGR2GRAY)\n",
    "    imgArray = cv2.resize(imgArray,(8,8))\n",
    "    #plt.imshow(imgArray)\n",
    "    #plt.show()\n",
    "    \n",
    "    #flattening\n",
    "    imgArray = np.reshape(imgArray,(1,64))\n",
    "    predicted_target = model.predict(imgArray)\n",
    "    #print(predicted_target)\n",
    "    #print(\"Predicted\")\n",
    "    label_status.config(text=\"PREDICTED DIGIT: \"+str(predicted_target[0]))"
   ]
  },
  {
   "cell_type": "markdown",
   "metadata": {},
   "source": [
    "### The main window of the application"
   ]
  },
  {
   "cell_type": "code",
   "execution_count": 20,
   "metadata": {},
   "outputs": [
    {
     "name": "stdout",
     "output_type": "stream",
     "text": [
      "[1]\n",
      "Predicted\n"
     ]
    }
   ],
   "source": [
    "win = tk.Tk()\n",
    "# main window\n",
    "\n",
    "canvas = tk.Canvas(win,width=500,height=500,bg='white')\n",
    "# where this canvas has to be placed -- win (inside win window)\n",
    "# specify the width and height\n",
    "# specify the background color\n",
    "\n",
    "canvas.grid(row=1,column=0,columnspan=4)\n",
    "# where to place the canvas\n",
    "# column span is used specify that after this canvas keep space for 4 columns (divide column 0 of canvas into 4 columns)\n",
    "\n",
    "font_btn='Helvetica 20 bold'\n",
    "font_label='Helvetica 24 bold'\n",
    "\n",
    "button_save=tk.Button(win,text='SAVE',bg='gray26',fg='black',font=font_btn,command=saveFunction)\n",
    "button_save.grid(row=2,column=0)\n",
    "\n",
    "button_predict=tk.Button(win,text='PREDICT',bg='gray26',fg='black',font=font_btn,command=predictFunction)\n",
    "button_predict.grid(row=2,column=1)\n",
    "\n",
    "button_clear=tk.Button(win,text='CLEAR',bg='gray26',fg='black',font=font_btn,command=clearFunction)\n",
    "button_clear.grid(row=2,column=2)\n",
    "\n",
    "button_exit=tk.Button(win,text='EXIT',bg='gray26',fg='black',font=font_btn,command=win.destroy)\n",
    "button_exit.grid(row=2,column=3)\n",
    "\n",
    "label_status=tk.Label(win,text='PREDICTED DIGIT: NONE',bg='white',fg=\"black\",font=font_label)\n",
    "label_status.grid(row=0,column=0,columnspan=4)\n",
    "\n",
    "canvas.bind('<B1-Motion>',drawFunction)\n",
    "# to activate the drawing function on the canvas\n",
    "\n",
    "img=Image.new('RGB',(500,500),(0,0,0)) # creates a pillow image from PIL Library\n",
    "# Black BG image is made because in the dataset we have Black BG images\n",
    "# Black pixels have less memory intake and that is why we have images with black BG\n",
    "img_draw=ImageDraw.Draw(img)\n",
    "\n",
    "win.mainloop()\n",
    "# running the GUI"
   ]
  }
 ],
 "metadata": {
  "kernelspec": {
   "display_name": "Python 3",
   "language": "python",
   "name": "python3"
  },
  "language_info": {
   "codemirror_mode": {
    "name": "ipython",
    "version": 3
   },
   "file_extension": ".py",
   "mimetype": "text/x-python",
   "name": "python",
   "nbconvert_exporter": "python",
   "pygments_lexer": "ipython3",
   "version": "3.8.3"
  }
 },
 "nbformat": 4,
 "nbformat_minor": 4
}
