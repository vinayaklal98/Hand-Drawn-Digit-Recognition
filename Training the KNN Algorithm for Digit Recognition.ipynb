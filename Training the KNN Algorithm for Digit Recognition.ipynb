{
 "cells": [
  {
   "cell_type": "markdown",
   "metadata": {},
   "source": [
    "# KNN Algorithm for Digit Recognition"
   ]
  },
  {
   "cell_type": "markdown",
   "metadata": {},
   "source": [
    "### Loading Dataset from sklearn "
   ]
  },
  {
   "cell_type": "code",
   "execution_count": 1,
   "metadata": {},
   "outputs": [],
   "source": [
    "from sklearn.datasets import load_digits\n",
    "#load_digits is the function used to load the digits dataset from sklearn module\n",
    "dataset=load_digits()"
   ]
  },
  {
   "cell_type": "markdown",
   "metadata": {},
   "source": [
    "### Describing the data and target values"
   ]
  },
  {
   "cell_type": "code",
   "execution_count": 2,
   "metadata": {},
   "outputs": [
    {
     "name": "stdout",
     "output_type": "stream",
     "text": [
      "data shape: (1797, 64)\n",
      "images shape: (1797, 8, 8)\n",
      "target data shape: (1797,)\n"
     ]
    }
   ],
   "source": [
    "data=dataset.data # Flatten version of images -- IMAGES ARE FLATTENED AND THE 8 by 8 MATRIX BECOMES 64 COLUMNS DATA\n",
    "target=dataset.target\n",
    "images=dataset.images # 2D version of images ---- MATRIX FORM\n",
    "\n",
    "print('data shape:',data.shape) # How many rows and columns\n",
    "print('images shape:',images.shape) # 1797 values in 8 by 8 matrix -- DATA (x)\n",
    "print('target data shape:',target.shape) # 1797 target values -- TARGET (y)"
   ]
  },
  {
   "cell_type": "markdown",
   "metadata": {},
   "source": [
    "### Checking the values and its corresponding target label"
   ]
  },
  {
   "cell_type": "code",
   "execution_count": 7,
   "metadata": {},
   "outputs": [
    {
     "name": "stdout",
     "output_type": "stream",
     "text": [
      "++++++++++++ 1st Image +++++++++++++\n"
     ]
    },
    {
     "data": {
      "image/png": "[encoded data removed]",
      "text/plain": [
       "<Figure size 432x288 with 1 Axes>"
      ]
     },
     "metadata": {
      "needs_background": "light"
     },
     "output_type": "display_data"
    },
    {
     "name": "stdout",
     "output_type": "stream",
     "text": [
      "          Target = 0\n",
      "\n",
      "\n",
      "++++++++++++ 100th Image +++++++++++++\n"
     ]
    },
    {
     "data": {
      "image/png": "[encoded data removed]",
      "text/plain": [
       "<Figure size 432x288 with 1 Axes>"
      ]
     },
     "metadata": {
      "needs_background": "light"
     },
     "output_type": "display_data"
    },
    {
     "name": "stdout",
     "output_type": "stream",
     "text": [
      "          Target = 4\n"
     ]
    }
   ],
   "source": [
    "from matplotlib import pyplot as plt\n",
    "\n",
    "print(f\"++++++++++++ 1st Image +++++++++++++\")\n",
    "plt.imshow(images[0],cmap='gray')\n",
    "plt.show()\n",
    "print(f\"          Target = {target[0]}\")\n",
    "print(f\"\\n\\n++++++++++++ 100th Image +++++++++++++\")\n",
    "plt.imshow(images[100],cmap='gray')\n",
    "plt.show()\n",
    "print(f\"          Target = {target[100]}\")"
   ]
  },
  {
   "cell_type": "markdown",
   "metadata": {},
   "source": [
    "### Splitting intro Train adn Test Data"
   ]
  },
  {
   "cell_type": "code",
   "execution_count": 8,
   "metadata": {},
   "outputs": [],
   "source": [
    "from sklearn.model_selection import train_test_split\n",
    "\n",
    "train_data,test_data,train_target,test_target=train_test_split(data,target,test_size=0.2)"
   ]
  },
  {
   "cell_type": "markdown",
   "metadata": {},
   "source": [
    "### Fitting / Training the data"
   ]
  },
  {
   "cell_type": "code",
   "execution_count": 9,
   "metadata": {},
   "outputs": [
    {
     "data": {
      "text/plain": [
       "KNeighborsClassifier(n_neighbors=3)"
      ]
     },
     "execution_count": 9,
     "metadata": {},
     "output_type": "execute_result"
    }
   ],
   "source": [
    "from sklearn.neighbors import KNeighborsClassifier\n",
    "\n",
    "model=KNeighborsClassifier(n_neighbors=3)\n",
    "model.fit(train_data,train_target)"
   ]
  },
  {
   "cell_type": "markdown",
   "metadata": {},
   "source": [
    "### Predicting the data"
   ]
  },
  {
   "cell_type": "code",
   "execution_count": 10,
   "metadata": {},
   "outputs": [],
   "source": [
    "predicted_target=model.predict(test_data)"
   ]
  },
  {
   "cell_type": "code",
   "execution_count": 15,
   "metadata": {},
   "outputs": [
    {
     "name": "stdout",
     "output_type": "stream",
     "text": [
      "[7 6 2 8 9 2 7 5 8 5 4 1 3 2 8 7 8 4 0 3 3 7 5 6 8 1 6 3 9 0 1 4 5 0 1 1 0\n",
      " 8 5 1 9 5 3 1 7 3 8 0 8 1 9 1 1 7 2 4 1 6 9 4 6 0 5 1 2 6 0 7 8 7 9 3 5 3\n",
      " 0 1 3 7 4 6 6 1 0 2 9 6 1 8 8 9 2 7 9 6 4 9 5 5 7 2 2 2 3 8 4 0 0 7 5 9 1\n",
      " 8 2 7 9 8 3 6 5 3 1 5 5 6 0 2 4 7 1 6 5 3 8 0 2 7 6 2 9 4 5 8 0 7 5 3 1 2\n",
      " 0 0 1 2 2 3 4 4 5 4 5 5 7 9 5 1 7 4 9 0 0 8 5 2 7 2 0 1 6 4 6 2 0 0 4 6 1\n",
      " 3 8 8 1 0 6 9 2 4 1 8 7 8 8 2 3 8 0 0 2 7 1 8 4 7 1 3 8 0 9 5 5 0 6 0 5 2\n",
      " 0 6 1 7 9 1 4 4 6 2 8 5 1 2 9 7 0 5 1 6 4 7 6 7 8 5 2 3 4 7 4 4 5 1 1 0 7\n",
      " 3 7 2 7 4 4 6 2 4 7 5 0 0 4 2 0 3 5 5 2 6 0 2 0 7 5 6 9 1 6 5 6 9 0 9 2 0\n",
      " 7 0 1 8 5 4 2 6 9 3 3 0 6 7 0 2 9 3 5 5 1 8 2 2 7 6 4 9 3 6 2 2 2 5 2 1 3\n",
      " 9 3 4 4 7 7 9 4 7 4 3 8 0 7 4 6 0 1 2 2 7 6 4 8 8 9 7]\n",
      "[7 6 2 8 9 2 7 5 8 5 4 1 3 2 8 7 8 4 0 3 3 7 1 6 8 1 6 3 9 0 1 4 5 0 1 1 0\n",
      " 8 5 1 9 5 3 1 7 3 8 0 8 1 9 1 1 7 2 4 1 6 9 4 6 0 5 1 2 6 0 7 8 7 9 3 5 3\n",
      " 0 1 3 7 4 6 6 8 0 2 9 6 1 8 8 9 2 7 9 6 4 9 5 5 7 2 2 2 3 8 4 0 0 7 5 9 1\n",
      " 8 2 3 9 8 3 6 5 3 1 5 5 6 0 2 4 7 1 6 5 3 8 0 2 7 6 2 9 4 5 8 0 7 5 3 1 2\n",
      " 0 0 1 2 2 3 4 4 5 4 5 5 7 9 5 1 7 4 9 0 0 8 5 2 7 2 0 1 6 4 6 2 0 0 4 6 1\n",
      " 9 8 8 1 0 6 9 2 4 1 8 7 8 8 2 3 8 0 0 2 7 1 8 4 7 1 3 8 0 9 5 5 0 6 0 5 2\n",
      " 0 6 1 7 9 1 4 4 6 2 8 5 1 2 9 7 0 5 1 6 4 7 6 7 8 5 2 3 4 7 4 4 5 1 1 0 7\n",
      " 3 7 2 7 4 4 6 2 4 7 5 0 0 4 2 0 3 5 5 2 6 0 2 0 7 5 6 9 1 6 5 6 9 0 9 2 0\n",
      " 7 0 1 8 5 4 2 6 9 3 3 0 6 7 0 2 9 3 5 5 1 8 2 2 7 6 4 9 3 6 2 2 2 5 2 1 3\n",
      " 9 3 4 4 7 7 7 4 7 4 3 8 0 7 4 6 0 1 2 2 7 6 4 8 8 9 7]\n"
     ]
    }
   ],
   "source": [
    "print(predicted_target)\n",
    "print(test_target)"
   ]
  },
  {
   "cell_type": "markdown",
   "metadata": {},
   "source": [
    "### Checking the accuracy "
   ]
  },
  {
   "cell_type": "code",
   "execution_count": 16,
   "metadata": {},
   "outputs": [
    {
     "name": "stdout",
     "output_type": "stream",
     "text": [
      "accuracy: 0.9861111111111112\n"
     ]
    }
   ],
   "source": [
    "from sklearn.metrics import accuracy_score\n",
    "\n",
    "acc=accuracy_score(test_target,predicted_target)\n",
    "\n",
    "print('accuracy:',acc)"
   ]
  },
  {
   "cell_type": "markdown",
   "metadata": {},
   "source": [
    "### Making a physical file of the trained model"
   ]
  },
  {
   "cell_type": "code",
   "execution_count": 17,
   "metadata": {},
   "outputs": [
    {
     "data": {
      "text/plain": [
       "['KNN-Handwritten-Written-Digits.sav']"
      ]
     },
     "execution_count": 17,
     "metadata": {},
     "output_type": "execute_result"
    }
   ],
   "source": [
    "import joblib\n",
    "\n",
    "joblib.dump(model,'KNN-Handwritten-Written-Digits.sav')"
   ]
  }
 ],
 "metadata": {
  "kernelspec": {
   "display_name": "Python 3",
   "language": "python",
   "name": "python3"
  },
  "language_info": {
   "codemirror_mode": {
    "name": "ipython",
    "version": 3
   },
   "file_extension": ".py",
   "mimetype": "text/x-python",
   "name": "python",
   "nbconvert_exporter": "python",
   "pygments_lexer": "ipython3",
   "version": "3.8.3"
  }
 },
 "nbformat": 4,
 "nbformat_minor": 4
}
